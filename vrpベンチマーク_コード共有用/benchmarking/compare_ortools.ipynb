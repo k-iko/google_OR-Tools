{
 "cells": [
  {
   "cell_type": "markdown",
   "id": "457a5d42-4a7e-4a02-a232-ec4978880d51",
   "metadata": {},
   "source": [
    "# Compare solvers"
   ]
  },
  {
   "cell_type": "code",
   "execution_count": null,
   "id": "1e301eb7",
   "metadata": {},
   "outputs": [],
   "source": [
    "import os\n",
    "import re\n",
    "import subprocess\n",
    "import time\n",
    "import datetime as dt\n",
    "import pandas as pd\n",
    "import plotly.express as px\n",
    "import plotly.graph_objects as go\n",
    "from itertools import permutations\n",
    "from ortools.constraint_solver import routing_enums_pb2\n",
    "from ortools.constraint_solver import pywrapcp"
   ]
  },
  {
   "cell_type": "code",
   "execution_count": null,
   "id": "d47d3fbf",
   "metadata": {},
   "outputs": [],
   "source": [
    "DATA_DIR_PATH = '../DATA/SINTEF/100cust'\n",
    "INSTANCE_NAME = 'c101'"
   ]
  },
  {
   "cell_type": "markdown",
   "id": "cb5c5a68-6bc0-4509-bb95-bc0c756b465d",
   "metadata": {},
   "source": [
    "## Read Test Files"
   ]
  },
  {
   "cell_type": "code",
   "execution_count": null,
   "id": "91d8bb04-c337-4979-bf38-008b8e57be6e",
   "metadata": {},
   "outputs": [],
   "source": [
    "instance_file_path = os.path.join(\n",
    "    DATA_DIR_PATH, f'{INSTANCE_NAME}.txt'\n",
    ")\n",
    "instance_df = pd.read_csv(\n",
    "    instance_file_path, \n",
    "    skiprows=8, \n",
    "    delim_whitespace=True, \n",
    "    header=None)\n",
    "instance_df.columns=[\n",
    "    'CUST NO.', \n",
    "    'XCOORD', \n",
    "    'YCOORD', \n",
    "    'DEMAND', \n",
    "    'READY TIME', \n",
    "    'DUE DATE', \n",
    "    'SERVICE TIME']\n",
    "instance_df"
   ]
  },
  {
   "cell_type": "code",
   "execution_count": null,
   "id": "357789d7-b321-4c59-b8f8-65d76ac9f2c4",
   "metadata": {},
   "outputs": [],
   "source": [
    "fig = px.scatter(\n",
    "    instance_df, \n",
    "    x=\"XCOORD\", y=\"YCOORD\", \n",
    "    text=instance_df['CUST NO.'], \n",
    "    width=1000, height=800)\n",
    "fig.show()"
   ]
  },
  {
   "cell_type": "code",
   "execution_count": null,
   "id": "ebb1ad4c",
   "metadata": {},
   "outputs": [],
   "source": [
    "# save\n",
    "img_file_path = os.path.join(\n",
    "    DATA_DIR_PATH, f'{INSTANCE_NAME}.png'\n",
    ")\n",
    "fig.write_image(img_file_path)"
   ]
  },
  {
   "cell_type": "markdown",
   "id": "3a0dd81c",
   "metadata": {
    "tags": []
   },
   "source": [
    "## File creations"
   ]
  },
  {
   "cell_type": "markdown",
   "id": "b061c111",
   "metadata": {},
   "source": [
    "### Input File"
   ]
  },
  {
   "cell_type": "code",
   "execution_count": null,
   "id": "8eb2252d-6371-4d46-8f22-678e7278bb7a",
   "metadata": {},
   "outputs": [],
   "source": [
    "# make input data\n",
    "start_date = pd.to_datetime('1/1/2017')\n",
    "input_df = instance_df.copy()\n",
    "input_df = input_df.rename(\n",
    "    columns={\n",
    "    'XCOORD':'LATITUDE', 'YCOORD':'LONGITUDE',\n",
    "    'READY TIME':'FROM TIME', 'DUE DATE':'TO TIME'})\n",
    "input_df['FROM TIME'] = input_df['FROM TIME'].apply(\n",
    "    lambda x: (start_date + dt.timedelta(minutes = x)).strftime('%Y/%m/%d %H:%M:%S'))\n",
    "input_df['TO TIME'] = input_df['TO TIME'].apply(\n",
    "    lambda x: (start_date + dt.timedelta(minutes = x)).strftime('%Y/%m/%d %H:%M:%S'))"
   ]
  },
  {
   "cell_type": "code",
   "execution_count": null,
   "id": "824b11cf-4d14-4667-9fd8-83f933551e02",
   "metadata": {},
   "outputs": [],
   "source": [
    "# save\n",
    "input_file_path = os.path.join(\n",
    "    DATA_DIR_PATH, f'{INSTANCE_NAME}_input.csv'\n",
    ")\n",
    "input_df.to_csv(input_file_path, index=False)"
   ]
  },
  {
   "cell_type": "markdown",
   "id": "630af4f2",
   "metadata": {},
   "source": [
    "### Distance File"
   ]
  },
  {
   "cell_type": "code",
   "execution_count": null,
   "id": "3610dea7",
   "metadata": {},
   "outputs": [],
   "source": [
    "# make distance data\n",
    "distance_df = [\n",
    "    [src, dst] \n",
    "    for src, dst in permutations(instance_df['CUST NO.'], 2)\n",
    "    ]\n",
    "distance_df = pd.DataFrame(distance_df, columns=['START', 'END'])\n",
    "coords = instance_df.set_index('CUST NO.')\n",
    "distance_df['START_x'] = coords.loc[distance_df['START'], 'XCOORD'].values\n",
    "distance_df['START_y'] = coords.loc[distance_df['START'], 'YCOORD'].values\n",
    "distance_df['END_x'] = coords.loc[distance_df['END'], 'XCOORD'].values\n",
    "distance_df['END_y'] = coords.loc[distance_df['END'], 'YCOORD'].values\n",
    "distance_df['DIFF_x'] = distance_df['END_x']-distance_df['START_x']\n",
    "distance_df['DIFF_y'] = distance_df['END_y']-distance_df['START_y']\n",
    "distance_df['METERS'] = 1000*(distance_df['DIFF_x']**2+distance_df['DIFF_y']**2)**(1/2)\n",
    "distance_df['KM'] = (distance_df['METERS']/1000).astype(int)\n",
    "distance_df.head()"
   ]
  },
  {
   "cell_type": "code",
   "execution_count": null,
   "id": "1f5dcf67",
   "metadata": {},
   "outputs": [],
   "source": [
    "# save\n",
    "distance_file_path = os.path.join(\n",
    "    DATA_DIR_PATH, f'{INSTANCE_NAME}_dist.csv'\n",
    ")\n",
    "distance_df = distance_df[['START', 'END', 'METERS']]\n",
    "distance_df.to_csv(distance_file_path, index=False, header=False)"
   ]
  },
  {
   "cell_type": "markdown",
   "id": "589a08ee",
   "metadata": {},
   "source": [
    "### Time File"
   ]
  },
  {
   "cell_type": "code",
   "execution_count": null,
   "id": "58c8f61d",
   "metadata": {},
   "outputs": [],
   "source": [
    "# make distance data\n",
    "time_df = distance_df[['START', 'END', 'METERS']]\n",
    "time_df['HRS'] = time_df['METERS']/(60*1000)"
   ]
  },
  {
   "cell_type": "code",
   "execution_count": null,
   "id": "6b3fe57d",
   "metadata": {},
   "outputs": [],
   "source": [
    "# save\n",
    "time_file_path = os.path.join(\n",
    "    DATA_DIR_PATH, f'{INSTANCE_NAME}_time.csv'\n",
    ")\n",
    "time_df = time_df[['START', 'END', 'HRS']]\n",
    "time_df.to_csv(time_file_path, index=False, header=False)"
   ]
  },
  {
   "cell_type": "markdown",
   "id": "59101b7c",
   "metadata": {},
   "source": [
    "### Other config"
   ]
  },
  {
   "cell_type": "code",
   "execution_count": null,
   "id": "4a58475f",
   "metadata": {},
   "outputs": [],
   "source": [
    "# make other cofig data\n",
    "conf_df = pd.read_csv(\n",
    "    instance_file_path, \n",
    "    skiprows=3,\n",
    "    nrows=1,\n",
    "    delim_whitespace=True, \n",
    "    header=0).T\n",
    "conf_df"
   ]
  },
  {
   "cell_type": "code",
   "execution_count": null,
   "id": "d4ae97f8",
   "metadata": {},
   "outputs": [],
   "source": [
    "# save\n",
    "conf_file_path = os.path.join(\n",
    "    DATA_DIR_PATH, f'{INSTANCE_NAME}_conf.csv'\n",
    ")\n",
    "conf_df.to_csv(conf_file_path, header=False)"
   ]
  },
  {
   "cell_type": "markdown",
   "id": "20e6f388",
   "metadata": {},
   "source": [
    "## Run CARG Solver"
   ]
  },
  {
   "cell_type": "code",
   "execution_count": null,
   "id": "ec672766",
   "metadata": {},
   "outputs": [],
   "source": [
    "output_file_path = os.path.join(\n",
    "    DATA_DIR_PATH, f'{INSTANCE_NAME}_output_CARG.csv'\n",
    ")\n",
    "start_time = input_df['FROM TIME'].min()\n",
    "end_time = input_df['TO TIME'].max()\n",
    "vehicle_num = conf_df.loc['NUMBER', 0]\n",
    "capacity = conf_df.loc['CAPACITY', 0]"
   ]
  },
  {
   "cell_type": "code",
   "execution_count": null,
   "id": "c3b3798e",
   "metadata": {},
   "outputs": [],
   "source": [
    "std_out = subprocess.check_output([\n",
    "        \"pypy\",\"../vrp_classical/code/main_tw.py\",\n",
    "        \"-i\", input_file_path,\n",
    "        \"-d\", distance_file_path,\n",
    "        \"-t\", time_file_path,\n",
    "        \"-o\", output_file_path,\n",
    "        \"-v\", str(vehicle_num), \n",
    "        \"-rv\", # reduce vehicle\n",
    "        \"-s\", start_time,\n",
    "        \"-e\", end_time,\n",
    "        # \"-mt\", #multi-trip (rotation)\n",
    "        \"-dem\", str(capacity),\n",
    "        \"-lpt\", \"hard\", # hard constraint on package weight v.s. vehicle capacity\n",
    "        #\"-lpt\", \"soft\", # hard constraint on package weight v.s. vehicle capacity\n",
    "        #\"-avedistper\", \"10\"\n",
    "        # \"-l\" #1.20.2022\n",
    "        # \"-multithread\", \"0\"\n",
    "        ])"
   ]
  },
  {
   "cell_type": "markdown",
   "id": "6fb6e137-76ca-4475-a8d6-60c6459d5b72",
   "metadata": {},
   "source": [
    "### Extract Results"
   ]
  },
  {
   "cell_type": "code",
   "execution_count": null,
   "id": "a7eca011",
   "metadata": {},
   "outputs": [],
   "source": [
    "result_df = {}"
   ]
  },
  {
   "cell_type": "code",
   "execution_count": null,
   "id": "d02278cf",
   "metadata": {},
   "outputs": [],
   "source": [
    "# extract results from detail output file\n",
    "detail_output_file_path = f'{output_file_path}.detail.csv'\n",
    "with open(detail_output_file_path, 'r') as f:\n",
    "    lines = f.readlines()\n",
    "for l in lines:\n",
    "    if 'TOTALCOST,' in l:\n",
    "        result_df['TOTALCOST'] =\\\n",
    "            float(l.split(',')[1].replace('\\n', ''))/1000"
   ]
  },
  {
   "cell_type": "code",
   "execution_count": null,
   "id": "f26b6b88",
   "metadata": {},
   "outputs": [],
   "source": [
    "# extract results from std output\n",
    "pat = re.compile(r\"=====.*?=====\")\n",
    "texts = std_out.decode().split('\\n')\n",
    "texts = [t for t in texts if pat.match(t)]\n",
    "result_row = texts.index('='*39)\n",
    "texts = texts[result_row:]\n",
    "pat = re.compile(r\"[\\d\\.]+\")\n",
    "result_cols = [\n",
    "    'TOTAL_NUMBER_OF VEHICLES',\n",
    "    'CONSTRUCTION_TIME',\n",
    "    'IMPROVEMENT_TIME']\n",
    "for c in result_cols:\n",
    "    for t in texts:\n",
    "        if c in t:\n",
    "            result_df[c] = float(pat.findall(t)[0])\n",
    "result_df['ELAPSED_TIME'] =\\\n",
    "    result_df['CONSTRUCTION_TIME']+result_df['IMPROVEMENT_TIME']"
   ]
  },
  {
   "cell_type": "code",
   "execution_count": null,
   "id": "0fe50e62",
   "metadata": {},
   "outputs": [],
   "source": [
    "result_df = pd.Series(result_df).to_frame()\n",
    "result_df"
   ]
  },
  {
   "cell_type": "code",
   "execution_count": null,
   "id": "a8e2be63",
   "metadata": {},
   "outputs": [],
   "source": [
    "# save\n",
    "result_file_path = os.path.join(\n",
    "    DATA_DIR_PATH, f'{INSTANCE_NAME}_result_CARG.csv'\n",
    ")\n",
    "result_df.to_csv(result_file_path, header=False)"
   ]
  },
  {
   "cell_type": "markdown",
   "id": "8c301c50",
   "metadata": {},
   "source": [
    "### Plot Route"
   ]
  },
  {
   "cell_type": "code",
   "execution_count": null,
   "id": "b63daff0-3a63-4918-be19-41a6f3d23953",
   "metadata": {},
   "outputs": [],
   "source": [
    "# extract routes\n",
    "routes_df = []\n",
    "# get route\n",
    "pat = re.compile(r\"[\\d\\.]+\")\n",
    "with open(output_file_path, \"r\") as f:\n",
    "    lines = f.read().splitlines()\n",
    "    for line in lines[1:]:\n",
    "        line = line.split(',')\n",
    "        v = pat.findall(line[0])[0]\n",
    "        pre_cust = 0\n",
    "        for cust in line[1:]:\n",
    "            cust = int(cust)\n",
    "            routes_df.append([v, cust, pre_cust])\n",
    "            pre_cust = cust\n",
    "routes_df = pd.DataFrame(\n",
    "    routes_df, \n",
    "    columns=['vehicle', 'customer', 'pre_customer'])\n",
    "# get order\n",
    "routes_df['order'] = 1\n",
    "routes_df['order'] = routes_df.groupby('vehicle')['order'].cumsum()\n",
    "routes_df['order'] -= 1\n",
    "# get coordinate\n",
    "coords = instance_df.set_index('CUST NO.')\n",
    "routes_df['x'] = coords.loc[routes_df['customer'], 'XCOORD'].values\n",
    "routes_df['y'] = coords.loc[routes_df['customer'], 'YCOORD'].values\n",
    "# get demand\n",
    "demands = instance_df.set_index('CUST NO.')\n",
    "routes_df['demand'] = demands.loc[routes_df['customer'], 'DEMAND'].values\n",
    "routes_df['total_demand'] = routes_df.groupby('vehicle')['demand'].cumsum()\n",
    "# get distance\n",
    "dists = distance_df.set_index(['START', 'END'])\n",
    "dists.loc[(0,0), 'METERS'] = 0\n",
    "routes_df['distance'] =\\\n",
    "    dists.loc[\n",
    "        routes_df.set_index(['customer', 'pre_customer']).index,\n",
    "        'METERS'].values\n",
    "routes_df['total_distance'] =\\\n",
    "    routes_df.groupby('vehicle')['distance'].cumsum()"
   ]
  },
  {
   "cell_type": "code",
   "execution_count": null,
   "id": "174a5d71",
   "metadata": {},
   "outputs": [],
   "source": [
    "# plot routes\n",
    "vehicle_num = int(result_df.loc['TOTAL_NUMBER_OF VEHICLES', 0])\n",
    "total_cost = result_df.loc['TOTALCOST', 0]\n",
    "fig = px.line(\n",
    "    routes_df, \n",
    "    x='x', y='y', \n",
    "    color='vehicle',\n",
    "    hover_data=['order', 'x', 'y', 'demand', 'total_distance', 'total_demand'],\n",
    "    text=routes_df['customer'],\n",
    "    title=f'VEHICLE_NUM:{vehicle_num}\\tDISTANCE:{total_cost}',\n",
    "    width=1000, height=800)\n",
    "\n",
    "center = instance_df.set_index(\n",
    "    'CUST NO.').loc[0, ['XCOORD', 'YCOORD']].values\n",
    "for vehicle, df in routes_df.groupby('vehicle'):\n",
    "    no_stop = len(df)\n",
    "    total_dist = int(df['total_distance'].iloc[-1]/1000)\n",
    "    total_dem = int(df['total_demand'].iloc[-1])\n",
    "    fig.add_trace(go.Scatter(\n",
    "        name=f'{no_stop} Deliveries ({total_dist}km, {total_dem}pkg)',\n",
    "        x=center[0:1], y=center[1:2],\n",
    "        mode='markers', \n",
    "        marker=go.scatter.Marker(size=0),\n",
    "        legendgroup=vehicle))\n",
    "    \n",
    "fig.add_trace(\n",
    "    go.Scatter(\n",
    "        name='Central Depot', \n",
    "        x=center[0:1], y=center[1:2], \n",
    "        mode='markers',\n",
    "        marker=go.scatter.Marker(size=15, color=px.colors.qualitative.G10[-2],opacity=0.9)))\n",
    "\n",
    "fig.show()"
   ]
  },
  {
   "cell_type": "code",
   "execution_count": null,
   "id": "9d2e0f43",
   "metadata": {},
   "outputs": [],
   "source": [
    "# save\n",
    "img_file_path = os.path.join(\n",
    "    DATA_DIR_PATH, f'{INSTANCE_NAME}_route_CARG.png'\n",
    ")\n",
    "fig.write_image(img_file_path)"
   ]
  },
  {
   "cell_type": "markdown",
   "id": "dab5f244",
   "metadata": {},
   "source": [
    "## Run OR-tools Solver"
   ]
  },
  {
   "cell_type": "code",
   "execution_count": null,
   "id": "d5a5d268",
   "metadata": {},
   "outputs": [],
   "source": [
    "# make data\n",
    "data = {}\n",
    "data['distance_matrix'] =\\\n",
    "    distance_df.pivot_table(\n",
    "        index=['START'], \n",
    "        columns=['END'],\n",
    "        values=['METERS'], \n",
    "        aggfunc='first').fillna(0)\n",
    "data['distance_matrix'] = data['distance_matrix'].astype(int).values\n",
    "data['num_vehicles'] = int(conf_df.loc['NUMBER', 0])\n",
    "# data['num_vehicles'] = int(vehicle_num_carg)\n",
    "data['depot'] = 0\n",
    "data['demands'] = input_df.set_index('CUST NO.')['DEMAND'].tolist()\n",
    "data['vehicle_capacities'] = [capacity]*data['num_vehicles']\n",
    "data['time_windows'] = (instance_df[['READY TIME', 'DUE DATE']]*1000).values\n",
    "data['time_matrix'] = data['distance_matrix']\n",
    "data['service_time'] = (instance_df['SERVICE TIME']*1000).values"
   ]
  },
  {
   "cell_type": "code",
   "execution_count": null,
   "id": "72ede4f5",
   "metadata": {},
   "outputs": [],
   "source": [
    "# Create the routing index manager.\n",
    "manager = pywrapcp.RoutingIndexManager(\n",
    "    len(data['distance_matrix']),\n",
    "    data['num_vehicles'], data['depot'])\n",
    "# Create Routing Model.\n",
    "routing = pywrapcp.RoutingModel(manager)"
   ]
  },
  {
   "cell_type": "code",
   "execution_count": null,
   "id": "c913d39e",
   "metadata": {},
   "outputs": [],
   "source": [
    "# Create and register a transit callback.\n",
    "def distance_callback(from_index, to_index):\n",
    "    \"\"\"Returns the distance between the two nodes.\"\"\"\n",
    "    # Convert from routing variable Index to distance matrix NodeIndex.\n",
    "    from_node = manager.IndexToNode(from_index)\n",
    "    to_node = manager.IndexToNode(to_index)\n",
    "    return data['distance_matrix'][from_node][to_node]\n",
    "\n",
    "transit_callback_index = routing.RegisterTransitCallback(distance_callback)\n",
    "\n",
    "# Define cost of each arc.\n",
    "routing.SetArcCostEvaluatorOfAllVehicles(transit_callback_index)"
   ]
  },
  {
   "cell_type": "code",
   "execution_count": null,
   "id": "4c1e9407",
   "metadata": {},
   "outputs": [],
   "source": [
    "# Demand Constraint\n",
    "def demand_callback(from_index):\n",
    "    \"\"\"Returns the demand of the node.\"\"\"\n",
    "    # Convert from routing variable Index to demands NodeIndex.\n",
    "    from_node = manager.IndexToNode(from_index)\n",
    "    return data['demands'][from_node]\n",
    "\n",
    "demand_callback_index = routing.RegisterUnaryTransitCallback(\n",
    "    demand_callback)\n",
    "\n",
    "routing.AddDimensionWithVehicleCapacity(\n",
    "    demand_callback_index,\n",
    "    0,  # null capacity slack\n",
    "    data['vehicle_capacities'],  # vehicle maximum capacities\n",
    "    True,  # start cumul to zero\n",
    "    'Capacity')"
   ]
  },
  {
   "cell_type": "code",
   "execution_count": null,
   "id": "61523d2c",
   "metadata": {},
   "outputs": [],
   "source": [
    "# Time Constraint\n",
    "def time_callback(from_index, to_index):\n",
    "    \"\"\"Returns the travel time between the two nodes.\"\"\"\n",
    "    # Convert from routing variable Index to time matrix NodeIndex.\n",
    "    from_node = manager.IndexToNode(from_index)\n",
    "    to_node = manager.IndexToNode(to_index)\n",
    "    return data['time_matrix'][from_node][to_node] + data['service_time'][from_node]\n",
    "\n",
    "time_callback_index = routing.RegisterTransitCallback(time_callback)\n",
    "\n",
    "dimension_name = 'Time'\n",
    "routing.AddDimension(\n",
    "    time_callback_index,\n",
    "    int(data['time_windows'].max()),  # allow waiting time\n",
    "    int(data['time_windows'].max()),  # maximum time per vehicle\n",
    "    False,  # Don't force start cumul to zero.\n",
    "    dimension_name)\n",
    "time_dimension = routing.GetDimensionOrDie(dimension_name)\n",
    "# Add time window constraints for each location except depot.\n",
    "for location_idx, time_window in enumerate(data['time_windows']):\n",
    "    if location_idx == data['depot']:\n",
    "        continue\n",
    "    index = manager.NodeToIndex(location_idx)\n",
    "    time_dimension.CumulVar(index).SetRange(int(time_window[0]), int(time_window[1]))\n",
    "# Add time window constraints for each vehicle start node.\n",
    "depot_idx = data['depot']\n",
    "for vehicle_id in range(data['num_vehicles']):\n",
    "    index = routing.Start(vehicle_id)\n",
    "    time_dimension.CumulVar(index).SetRange(\n",
    "        int(data['time_windows'][depot_idx][0]),\n",
    "        int(data['time_windows'][depot_idx][1]))\n",
    "for i in range(data['num_vehicles']):\n",
    "    routing.AddVariableMinimizedByFinalizer(\n",
    "        time_dimension.CumulVar(routing.Start(i)))\n",
    "    routing.AddVariableMinimizedByFinalizer(\n",
    "        time_dimension.CumulVar(routing.End(i)))"
   ]
  },
  {
   "cell_type": "code",
   "execution_count": null,
   "id": "a8e547fd",
   "metadata": {},
   "outputs": [],
   "source": [
    "# Setting first solution heuristic.\n",
    "search_parameters = pywrapcp.DefaultRoutingSearchParameters()\n",
    "search_parameters.first_solution_strategy = (\n",
    "    routing_enums_pb2.FirstSolutionStrategy.LOCAL_CHEAPEST_INSERTION)"
   ]
  },
  {
   "cell_type": "code",
   "execution_count": null,
   "id": "f153b75d",
   "metadata": {},
   "outputs": [],
   "source": [
    "# Solve the problem.\n",
    "start_time = time.time()\n",
    "solution = routing.SolveWithParameters(search_parameters)\n",
    "elapsed_time = time.time()-start_time"
   ]
  },
  {
   "cell_type": "markdown",
   "id": "72226a3d",
   "metadata": {},
   "source": [
    "### Extract Results"
   ]
  },
  {
   "cell_type": "code",
   "execution_count": null,
   "id": "eab7f679",
   "metadata": {},
   "outputs": [],
   "source": [
    "# extract route\n",
    "routes_df = []\n",
    "max_route_distance = 0\n",
    "for vehicle in range(data['num_vehicles']):\n",
    "    index = routing.Start(vehicle)\n",
    "    previous_index = index\n",
    "    route_distance = 0\n",
    "    while not routing.IsEnd(index):\n",
    "        cust = manager.IndexToNode(index)\n",
    "        pre_cust = manager.IndexToNode(previous_index)\n",
    "        routes_df.append([vehicle, cust, pre_cust])\n",
    "        previous_index = index\n",
    "        index = solution.Value(routing.NextVar(index))\n",
    "        route_distance += routing.GetArcCostForVehicle(\n",
    "            previous_index, index, vehicle)\n",
    "    cust = manager.IndexToNode(index)\n",
    "    pre_cust = manager.IndexToNode(previous_index)\n",
    "    routes_df.append([vehicle, cust, pre_cust])\n",
    "    max_route_distance = max(route_distance, max_route_distance)\n",
    "routes_df = pd.DataFrame(\n",
    "    routes_df, \n",
    "    columns=['vehicle', 'customer', 'pre_customer'])\n",
    "# get order\n",
    "routes_df['order'] = 1\n",
    "routes_df['order'] = routes_df.groupby('vehicle')['order'].cumsum()\n",
    "routes_df['order'] -= 1\n",
    "# get coordinate\n",
    "coords = instance_df.set_index('CUST NO.')\n",
    "routes_df['x'] = coords.loc[routes_df['customer'], 'XCOORD'].values\n",
    "routes_df['y'] = coords.loc[routes_df['customer'], 'YCOORD'].values\n",
    "# get demand\n",
    "demands = instance_df.set_index('CUST NO.')\n",
    "routes_df['demand'] = demands.loc[routes_df['customer'], 'DEMAND'].values\n",
    "routes_df['total_demand'] = routes_df.groupby('vehicle')['demand'].cumsum()\n",
    "# get distance\n",
    "dists = distance_df.set_index(['START', 'END'])\n",
    "dists.loc[(0,0), 'METERS'] = 0\n",
    "routes_df['distance'] =\\\n",
    "    dists.loc[\n",
    "        routes_df.set_index(['customer', 'pre_customer']).index,\n",
    "        'METERS'].values\n",
    "routes_df['total_distance'] =\\\n",
    "    routes_df.groupby('vehicle')['distance'].cumsum()\n",
    "# drop non used vehicles\n",
    "active_vehicles = (routes_df.groupby('vehicle')['distance'].sum()>0).to_dict()\n",
    "active_vehicles = [k for k,v in active_vehicles.items() if v]\n",
    "routes_df = routes_df[routes_df['vehicle'].isin(active_vehicles)]\n",
    "reindex = {\n",
    "    v:new_v for v, new_v in zip(active_vehicles, range(len(active_vehicles)))}\n",
    "routes_df['vehicle'] = routes_df['vehicle'].map(reindex)\n",
    "routes_df"
   ]
  },
  {
   "cell_type": "code",
   "execution_count": null,
   "id": "e55494d5",
   "metadata": {},
   "outputs": [],
   "source": [
    "# make result\n",
    "result_df = {}\n",
    "result_df['TOTALCOST'] =\\\n",
    "    routes_df.groupby('vehicle')['total_distance'].last().sum()/1000\n",
    "result_df['TOTAL_NUMBER_OF VEHICLES'] = len(routes_df['vehicle'].unique())\n",
    "result_df['ELAPSED_TIME'] = elapsed_time\n",
    "result_df = pd.Series(result_df).to_frame()\n",
    "result_df"
   ]
  },
  {
   "cell_type": "code",
   "execution_count": null,
   "id": "f5abbdef",
   "metadata": {},
   "outputs": [],
   "source": [
    "# save\n",
    "result_file_path = os.path.join(\n",
    "    DATA_DIR_PATH, f'{INSTANCE_NAME}_result_ortools.csv'\n",
    ")\n",
    "result_df.to_csv(result_file_path, header=False)"
   ]
  },
  {
   "cell_type": "code",
   "execution_count": null,
   "id": "1215c2c0",
   "metadata": {},
   "outputs": [],
   "source": [
    "# make route output\n",
    "output_file_path = os.path.join(\n",
    "    DATA_DIR_PATH, f'{INSTANCE_NAME}_output_ortools.csv'\n",
    ")\n",
    "with open(output_file_path, 'w', newline='\\n') as f:\n",
    "    f.write('route#,Id\\n')\n",
    "    for v, df in routes_df.groupby('vehicle'):\n",
    "        line = ','.join([f'route{v}'] + df['customer'].astype(str).to_list())\n",
    "        line += '\\n'\n",
    "        f.write(line)"
   ]
  },
  {
   "cell_type": "code",
   "execution_count": null,
   "id": "766eeef4",
   "metadata": {},
   "outputs": [],
   "source": [
    "result_df"
   ]
  },
  {
   "cell_type": "markdown",
   "id": "6ca5f874",
   "metadata": {},
   "source": [
    "### Plot Route"
   ]
  },
  {
   "cell_type": "code",
   "execution_count": null,
   "id": "8660d490",
   "metadata": {},
   "outputs": [],
   "source": [
    "# plot routes\n",
    "vehicle_num = int(result_df.loc['TOTAL_NUMBER_OF VEHICLES', 0])\n",
    "total_cost = result_df.loc['TOTALCOST', 0]\n",
    "fig = px.line(\n",
    "    routes_df, \n",
    "    x='x', y='y', \n",
    "    color='vehicle',\n",
    "    hover_data=['order', 'x', 'y', 'demand', 'total_distance', 'total_demand'],\n",
    "    text=routes_df['customer'],\n",
    "    title=f'VEHICLE_NUM:{vehicle_num}\\tDISTANCE:{total_cost}',\n",
    "    width=1000, height=800)\n",
    "\n",
    "center = instance_df.set_index(\n",
    "    'CUST NO.').loc[0, ['XCOORD', 'YCOORD']].values\n",
    "for vehicle, df in routes_df.groupby('vehicle'):\n",
    "    no_stop = len(df)\n",
    "    total_dist = int(df['total_distance'].iloc[-1]/1000)\n",
    "    total_dem = int(df['total_demand'].iloc[-1])\n",
    "    fig.add_trace(go.Scatter(\n",
    "        name=f'{no_stop} Deliveries ({total_dist}km, {total_dem}pkg)',\n",
    "        x=center[0:1], y=center[1:2],\n",
    "        mode='markers', \n",
    "        marker=go.scatter.Marker(size=0),\n",
    "        legendgroup=vehicle))\n",
    "    \n",
    "fig.add_trace(\n",
    "    go.Scatter(\n",
    "        name='Central Depot', \n",
    "        x=center[0:1], y=center[1:2], \n",
    "        mode='markers',\n",
    "        marker=go.scatter.Marker(size=15, color=px.colors.qualitative.G10[-2],opacity=0.9)))\n",
    "\n",
    "fig.show()"
   ]
  },
  {
   "cell_type": "code",
   "execution_count": null,
   "id": "fece4611",
   "metadata": {},
   "outputs": [],
   "source": [
    "# save\n",
    "img_file_path = os.path.join(\n",
    "    DATA_DIR_PATH, f'{INSTANCE_NAME}_route_ortools.png'\n",
    ")\n",
    "fig.write_image(img_file_path)"
   ]
  },
  {
   "cell_type": "code",
   "execution_count": null,
   "id": "c7c052fa",
   "metadata": {},
   "outputs": [],
   "source": []
  }
 ],
 "metadata": {
  "kernelspec": {
   "display_name": "Python 3 (ipykernel)",
   "language": "python",
   "name": "python3"
  },
  "language_info": {
   "codemirror_mode": {
    "name": "ipython",
    "version": 3
   },
   "file_extension": ".py",
   "mimetype": "text/x-python",
   "name": "python",
   "nbconvert_exporter": "python",
   "pygments_lexer": "ipython3",
   "version": "3.9.8"
  },
  "vscode": {
   "interpreter": {
    "hash": "ab191618a8cca1d7716361479bbee005944f3913980507aac5a0f282301be182"
   }
  }
 },
 "nbformat": 4,
 "nbformat_minor": 5
}
